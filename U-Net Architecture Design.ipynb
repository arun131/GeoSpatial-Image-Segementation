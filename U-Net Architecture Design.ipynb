{
 "cells": [
  {
   "cell_type": "code",
   "execution_count": 2,
   "id": "8a847c16",
   "metadata": {},
   "outputs": [],
   "source": [
    "from tensorflow.keras import layers"
   ]
  },
  {
   "cell_type": "code",
   "execution_count": 3,
   "id": "e58c32ce",
   "metadata": {},
   "outputs": [],
   "source": [
    "# Define input image size\n",
    "Img_size1=256\n",
    "Img_size2=256\n",
    "Img_channels=3"
   ]
  },
  {
   "cell_type": "code",
   "execution_count": 10,
   "id": "c2269b91",
   "metadata": {},
   "outputs": [],
   "source": [
    "# Defining U net \n",
    "\n",
    "# input image\n",
    "inp=layers.Input(shape=(Img_size1,Img_size2,Img_channels))\n",
    "\n",
    "# normalizing the input\n",
    "norm_img=layers.Lambda(lambda x: x/255)(inp)\n",
    "\n",
    "# First Conv layers\n",
    "c1=layers.Conv2D(filters=16,kernel_size=(3,3),padding=\"same\",activation=\"relu\")(norm_img)\n",
    "c1=layers.Dropout(rate=0.1)(c1)\n",
    "c1=layers.Conv2D(filters=16,kernel_size=(3,3),padding=\"same\",activation=\"relu\")(c1)\n",
    "\n",
    "\n",
    "# Down Sampling\n",
    "p1=layers.MaxPool2D(pool_size=(2,2))(c1)\n",
    "\n",
    "# Second Conv layers\n",
    "c2=layers.Conv2D(filters=32,kernel_size=(3,3),padding=\"same\",activation=\"relu\")(p1)\n",
    "c2=layers.Dropout(rate=0.1)(c2)\n",
    "c2=layers.Conv2D(filters=32,kernel_size=(3,3),padding=\"same\",activation=\"relu\")(c2)\n",
    "\n",
    "\n",
    "# Down Sampling\n",
    "p2=layers.MaxPool2D(pool_size=(2,2))(c2)\n",
    "\n",
    "# third Conv layers\n",
    "c3=layers.Conv2D(filters=64,kernel_size=(3,3),padding=\"same\",activation=\"relu\")(p2)\n",
    "c3=layers.Dropout(rate=0.1)(c3)\n",
    "c3=layers.Conv2D(filters=64,kernel_size=(3,3),padding=\"same\",activation=\"relu\")(c3)\n",
    "\n",
    "\n",
    "# Down Sampling\n",
    "p3=layers.MaxPool2D(pool_size=(2,2))(c3)\n",
    "\n",
    "# Fourth Conv layers\n",
    "c4=layers.Conv2D(filters=128,kernel_size=(3,3),padding=\"same\",activation=\"relu\")(p3)\n",
    "c4=layers.Dropout(rate=0.1)(c4)\n",
    "c4=layers.Conv2D(filters=128,kernel_size=(3,3),padding=\"same\",activation=\"relu\")(c4)\n",
    "\n",
    "\n",
    "# Down Sampling\n",
    "p4=layers.MaxPool2D(pool_size=(2,2))(c4)\n",
    "\n",
    "\n",
    "# Fourth Conv layers\n",
    "c5=layers.Conv2D(filters=256,kernel_size=(3,3),padding=\"same\",activation=\"relu\")(p4)\n",
    "c5=layers.Dropout(rate=0.1)(c5)\n",
    "c5=layers.Conv2D(filters=256,kernel_size=(3,3),padding=\"same\",activation=\"relu\")(c5)\n",
    "\n",
    "# Upsampling 2\n",
    "pu1=layers.Conv2DTranspose(filters=128,kernel_size=(2,2),strides=(2,2),padding=\"same\")(c5)\n",
    "\n",
    "# upsample conv 1\n",
    "uc1=layers.concatenate([pu1,c4])\n",
    "uc1=layers.Conv2D(filters=128,kernel_size=(3,3),padding=\"same\",activation=\"relu\")(uc1)\n",
    "uc1=layers.Dropout(rate=0.1)(uc1)\n",
    "uc1=layers.Conv2D(filters=128,kernel_size=(3,3),padding=\"same\",activation=\"relu\")(uc1)\n",
    "\n",
    "# Upsampling 2\n",
    "pu2=layers.Conv2DTranspose(filters=64,kernel_size=(2,2),strides=(2,2),padding=\"same\")(uc1)\n",
    "\n",
    "\n",
    "# upsample conv 2\n",
    "uc2=layers.concatenate([pu2,c3])\n",
    "uc2=layers.Conv2D(filters=64,kernel_size=(3,3),padding=\"same\",activation=\"relu\")(uc2)\n",
    "uc2=layers.Dropout(rate=0.1)(uc2)\n",
    "uc2=layers.Conv2D(filters=64,kernel_size=(3,3),padding=\"same\",activation=\"relu\")(uc2)\n",
    "\n",
    "\n",
    "# Upsampling 3\n",
    "pu3=layers.Conv2DTranspose(filters=32,kernel_size=(2,2),strides=(2,2),padding=\"same\")(uc2)\n",
    "\n",
    "\n",
    "# upsample conv 2\n",
    "uc3=layers.concatenate([pu3,c2])\n",
    "uc3=layers.Conv2D(filters=32,kernel_size=(3,3),padding=\"same\",activation=\"relu\")(uc3)\n",
    "uc3=layers.Dropout(rate=0.1)(uc3)\n",
    "uc3=layers.Conv2D(filters=32,kernel_size=(3,3),padding=\"same\",activation=\"relu\")(uc3)\n",
    "\n",
    "\n",
    "# Upsampling 4\n",
    "pu4=layers.Conv2DTranspose(filters=32,kernel_size=(2,2),strides=(2,2),padding=\"same\")(uc3)\n",
    "\n",
    "\n",
    "# upsample conv 2\n",
    "uc4=layers.concatenate([pu4,c1])\n",
    "uc4=layers.Conv2D(filters=16,kernel_size=(3,3),padding=\"same\",activation=\"relu\")(uc4)\n",
    "uc4=layers.Dropout(rate=0.1)(uc4)\n",
    "uc4=layers.Conv2D(filters=16,kernel_size=(3,3),padding=\"same\",activation=\"relu\")(uc4)\n",
    "\n",
    "\n",
    "out=layers.Conv2D(filters=1,kernel_size=(1,1),activation=\"sigmoid\")(uc4)\n",
    "\n",
    "model=keras.models.Model(inputs=inp,outputs=out)\n",
    "\n",
    "model.compile(optimizer=\"adam\",loss=\"binary_crossentropy\",metrics=[\"accuracy\"])"
   ]
  },
  {
   "cell_type": "code",
   "execution_count": 11,
   "id": "729ce9d8",
   "metadata": {},
   "outputs": [
    {
     "name": "stdout",
     "output_type": "stream",
     "text": [
      "('You must install pydot (`pip install pydot`) and install graphviz (see instructions at https://graphviz.gitlab.io/download/) ', 'for plot_model/model_to_dot to work.')\n"
     ]
    }
   ],
   "source": [
    "tf.keras.utils.plot_model(model)"
   ]
  },
  {
   "cell_type": "code",
   "execution_count": null,
   "id": "d8f201f3",
   "metadata": {},
   "outputs": [],
   "source": []
  }
 ],
 "metadata": {
  "kernelspec": {
   "display_name": "Python 3",
   "language": "python",
   "name": "python3"
  },
  "language_info": {
   "codemirror_mode": {
    "name": "ipython",
    "version": 3
   },
   "file_extension": ".py",
   "mimetype": "text/x-python",
   "name": "python",
   "nbconvert_exporter": "python",
   "pygments_lexer": "ipython3",
   "version": "3.8.8"
  }
 },
 "nbformat": 4,
 "nbformat_minor": 5
}
